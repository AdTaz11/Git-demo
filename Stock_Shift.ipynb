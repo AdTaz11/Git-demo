{
  "nbformat": 4,
  "nbformat_minor": 0,
  "metadata": {
    "colab": {
      "name": "Stock Shift.ipynb",
      "provenance": [],
      "collapsed_sections": [],
      "authorship_tag": "ABX9TyOtAf3A0AdiqIpGKegcnJRG",
      "include_colab_link": true
    },
    "kernelspec": {
      "name": "python3",
      "display_name": "Python 3"
    },
    "language_info": {
      "name": "python"
    }
  },
  "cells": [
    {
      "cell_type": "markdown",
      "metadata": {
        "id": "view-in-github",
        "colab_type": "text"
      },
      "source": [
        "<a href=\"https://colab.research.google.com/github/AdTaz11/Git-demo/blob/master/Stock_Shift.ipynb\" target=\"_parent\"><img src=\"https://colab.research.google.com/assets/colab-badge.svg\" alt=\"Open In Colab\"/></a>"
      ]
    },
    {
      "cell_type": "code",
      "execution_count": 9,
      "metadata": {
        "id": "A7-YXG1STytQ"
      },
      "outputs": [],
      "source": [
        "import time\n",
        "import datetime as dt\n",
        "import pandas as pd\n",
        "from matplotlib import pyplot as plt\n",
        "from matplotlib import style \n",
        "from pandas_datareader import data as pdr"
      ]
    },
    {
      "cell_type": "code",
      "source": [
        "\n",
        "ticker = input(f\"Choose your ticker \")\n",
        "\n",
        "s_year = int(input(\"Starting Year (eg. 2003) \"))\n",
        "s_day = int(input(\"Starting Day (eg. 11) \"))\n",
        "s_month = int(input(\"Starting Month (eg. 11) \"))\n",
        "\n",
        "e_year = int(input(\"Ending Year (eg. 2003) \"))\n",
        "e_day = int(input(\"Ending Day (eg. 11) \"))\n",
        "e_month = int(input(\"Ending Month (eg. 11) \"))\n",
        "\n",
        "\n",
        "period1 = int(time.mktime(dt.datetime(s_year, s_month, s_day, 00, 59).timetuple()))\n",
        "period2 = int(time.mktime(dt.datetime(e_year, e_month, e_day, 23, 59).timetuple()))\n",
        "interval = \"1d\"\n",
        "query_string = f\"https://query1.finance.yahoo.com/v7/finance/download/{ticker}?period1={period1}&period2={period2}&interval={interval}&events=history&includeAdjustedClose=true\""
      ],
      "metadata": {
        "colab": {
          "base_uri": "https://localhost:8080/"
        },
        "id": "jZX6kvTRT7hP",
        "outputId": "95d289de-5f8e-4dee-ed30-a4eb93ad79c9"
      },
      "execution_count": 51,
      "outputs": [
        {
          "name": "stdout",
          "output_type": "stream",
          "text": [
            "Choose your ticker AAPL\n",
            "Starting Year (eg. 2003) 2010\n",
            "Starting Day (eg. 11) 12\n",
            "Starting Month (eg. 11) 12\n",
            "Ending Year (eg. 2003) 2020\n",
            "Ending Day (eg. 11) 12\n",
            "Ending Month (eg. 11) 12\n"
          ]
        }
      ]
    },
    {
      "cell_type": "code",
      "source": [
        "tk = pd.read_csv(query_string)\n",
        "#print(df)\n",
        "tk.head()"
      ],
      "metadata": {
        "colab": {
          "base_uri": "https://localhost:8080/",
          "height": 206
        },
        "id": "6lVtdejvXvZk",
        "outputId": "ed810016-c8af-46eb-87bb-0aa587a0b08f"
      },
      "execution_count": 52,
      "outputs": [
        {
          "output_type": "execute_result",
          "data": {
            "text/plain": [
              "         Date       Open       High        Low      Close  Adj Close  \\\n",
              "0  2010-12-13  11.584643  11.609286  11.464286  11.488214   9.837062   \n",
              "1  2010-12-14  11.490357  11.519286  11.392857  11.438929   9.794860   \n",
              "2  2010-12-15  11.428571  11.535714  11.399643  11.441429   9.797005   \n",
              "3  2010-12-16  11.467500  11.521786  11.432143  11.473214   9.824221   \n",
              "4  2010-12-17  11.486786  11.492500  11.436786  11.450357   9.804648   \n",
              "\n",
              "      Volume  \n",
              "0  439815600  \n",
              "1  351008000  \n",
              "2  417312000  \n",
              "3  322030800  \n",
              "4  386929200  "
            ],
            "text/html": [
              "\n",
              "  <div id=\"df-03ffbfca-413a-4d49-80a0-69e0b5432c96\">\n",
              "    <div class=\"colab-df-container\">\n",
              "      <div>\n",
              "<style scoped>\n",
              "    .dataframe tbody tr th:only-of-type {\n",
              "        vertical-align: middle;\n",
              "    }\n",
              "\n",
              "    .dataframe tbody tr th {\n",
              "        vertical-align: top;\n",
              "    }\n",
              "\n",
              "    .dataframe thead th {\n",
              "        text-align: right;\n",
              "    }\n",
              "</style>\n",
              "<table border=\"1\" class=\"dataframe\">\n",
              "  <thead>\n",
              "    <tr style=\"text-align: right;\">\n",
              "      <th></th>\n",
              "      <th>Date</th>\n",
              "      <th>Open</th>\n",
              "      <th>High</th>\n",
              "      <th>Low</th>\n",
              "      <th>Close</th>\n",
              "      <th>Adj Close</th>\n",
              "      <th>Volume</th>\n",
              "    </tr>\n",
              "  </thead>\n",
              "  <tbody>\n",
              "    <tr>\n",
              "      <th>0</th>\n",
              "      <td>2010-12-13</td>\n",
              "      <td>11.584643</td>\n",
              "      <td>11.609286</td>\n",
              "      <td>11.464286</td>\n",
              "      <td>11.488214</td>\n",
              "      <td>9.837062</td>\n",
              "      <td>439815600</td>\n",
              "    </tr>\n",
              "    <tr>\n",
              "      <th>1</th>\n",
              "      <td>2010-12-14</td>\n",
              "      <td>11.490357</td>\n",
              "      <td>11.519286</td>\n",
              "      <td>11.392857</td>\n",
              "      <td>11.438929</td>\n",
              "      <td>9.794860</td>\n",
              "      <td>351008000</td>\n",
              "    </tr>\n",
              "    <tr>\n",
              "      <th>2</th>\n",
              "      <td>2010-12-15</td>\n",
              "      <td>11.428571</td>\n",
              "      <td>11.535714</td>\n",
              "      <td>11.399643</td>\n",
              "      <td>11.441429</td>\n",
              "      <td>9.797005</td>\n",
              "      <td>417312000</td>\n",
              "    </tr>\n",
              "    <tr>\n",
              "      <th>3</th>\n",
              "      <td>2010-12-16</td>\n",
              "      <td>11.467500</td>\n",
              "      <td>11.521786</td>\n",
              "      <td>11.432143</td>\n",
              "      <td>11.473214</td>\n",
              "      <td>9.824221</td>\n",
              "      <td>322030800</td>\n",
              "    </tr>\n",
              "    <tr>\n",
              "      <th>4</th>\n",
              "      <td>2010-12-17</td>\n",
              "      <td>11.486786</td>\n",
              "      <td>11.492500</td>\n",
              "      <td>11.436786</td>\n",
              "      <td>11.450357</td>\n",
              "      <td>9.804648</td>\n",
              "      <td>386929200</td>\n",
              "    </tr>\n",
              "  </tbody>\n",
              "</table>\n",
              "</div>\n",
              "      <button class=\"colab-df-convert\" onclick=\"convertToInteractive('df-03ffbfca-413a-4d49-80a0-69e0b5432c96')\"\n",
              "              title=\"Convert this dataframe to an interactive table.\"\n",
              "              style=\"display:none;\">\n",
              "        \n",
              "  <svg xmlns=\"http://www.w3.org/2000/svg\" height=\"24px\"viewBox=\"0 0 24 24\"\n",
              "       width=\"24px\">\n",
              "    <path d=\"M0 0h24v24H0V0z\" fill=\"none\"/>\n",
              "    <path d=\"M18.56 5.44l.94 2.06.94-2.06 2.06-.94-2.06-.94-.94-2.06-.94 2.06-2.06.94zm-11 1L8.5 8.5l.94-2.06 2.06-.94-2.06-.94L8.5 2.5l-.94 2.06-2.06.94zm10 10l.94 2.06.94-2.06 2.06-.94-2.06-.94-.94-2.06-.94 2.06-2.06.94z\"/><path d=\"M17.41 7.96l-1.37-1.37c-.4-.4-.92-.59-1.43-.59-.52 0-1.04.2-1.43.59L10.3 9.45l-7.72 7.72c-.78.78-.78 2.05 0 2.83L4 21.41c.39.39.9.59 1.41.59.51 0 1.02-.2 1.41-.59l7.78-7.78 2.81-2.81c.8-.78.8-2.07 0-2.86zM5.41 20L4 18.59l7.72-7.72 1.47 1.35L5.41 20z\"/>\n",
              "  </svg>\n",
              "      </button>\n",
              "      \n",
              "  <style>\n",
              "    .colab-df-container {\n",
              "      display:flex;\n",
              "      flex-wrap:wrap;\n",
              "      gap: 12px;\n",
              "    }\n",
              "\n",
              "    .colab-df-convert {\n",
              "      background-color: #E8F0FE;\n",
              "      border: none;\n",
              "      border-radius: 50%;\n",
              "      cursor: pointer;\n",
              "      display: none;\n",
              "      fill: #1967D2;\n",
              "      height: 32px;\n",
              "      padding: 0 0 0 0;\n",
              "      width: 32px;\n",
              "    }\n",
              "\n",
              "    .colab-df-convert:hover {\n",
              "      background-color: #E2EBFA;\n",
              "      box-shadow: 0px 1px 2px rgba(60, 64, 67, 0.3), 0px 1px 3px 1px rgba(60, 64, 67, 0.15);\n",
              "      fill: #174EA6;\n",
              "    }\n",
              "\n",
              "    [theme=dark] .colab-df-convert {\n",
              "      background-color: #3B4455;\n",
              "      fill: #D2E3FC;\n",
              "    }\n",
              "\n",
              "    [theme=dark] .colab-df-convert:hover {\n",
              "      background-color: #434B5C;\n",
              "      box-shadow: 0px 1px 3px 1px rgba(0, 0, 0, 0.15);\n",
              "      filter: drop-shadow(0px 1px 2px rgba(0, 0, 0, 0.3));\n",
              "      fill: #FFFFFF;\n",
              "    }\n",
              "  </style>\n",
              "\n",
              "      <script>\n",
              "        const buttonEl =\n",
              "          document.querySelector('#df-03ffbfca-413a-4d49-80a0-69e0b5432c96 button.colab-df-convert');\n",
              "        buttonEl.style.display =\n",
              "          google.colab.kernel.accessAllowed ? 'block' : 'none';\n",
              "\n",
              "        async function convertToInteractive(key) {\n",
              "          const element = document.querySelector('#df-03ffbfca-413a-4d49-80a0-69e0b5432c96');\n",
              "          const dataTable =\n",
              "            await google.colab.kernel.invokeFunction('convertToInteractive',\n",
              "                                                     [key], {});\n",
              "          if (!dataTable) return;\n",
              "\n",
              "          const docLinkHtml = 'Like what you see? Visit the ' +\n",
              "            '<a target=\"_blank\" href=https://colab.research.google.com/notebooks/data_table.ipynb>data table notebook</a>'\n",
              "            + ' to learn more about interactive tables.';\n",
              "          element.innerHTML = '';\n",
              "          dataTable['output_type'] = 'display_data';\n",
              "          await google.colab.output.renderOutput(dataTable, element);\n",
              "          const docLink = document.createElement('div');\n",
              "          docLink.innerHTML = docLinkHtml;\n",
              "          element.appendChild(docLink);\n",
              "        }\n",
              "      </script>\n",
              "    </div>\n",
              "  </div>\n",
              "  "
            ]
          },
          "metadata": {},
          "execution_count": 52
        }
      ]
    },
    {
      "cell_type": "code",
      "source": [
        "tk['Open'].plot(label = \"Open price\")\n",
        "tk['Close'].plot(label = \"Close price\")\n",
        "tk['High'].plot(label = \"High price\")\n",
        "tk['Low'].plot(label = \"Low price\")\n",
        "\n",
        "plt.legend()\n",
        "plt.title(f\"Stock Price of {ticker}\")\n",
        "plt.show()"
      ],
      "metadata": {
        "colab": {
          "base_uri": "https://localhost:8080/",
          "height": 282
        },
        "id": "4Uf7aZXOAqYA",
        "outputId": "2d69979f-8b0a-4b5a-c549-3b35f2e1f0ff"
      },
      "execution_count": 54,
      "outputs": [
        {
          "output_type": "display_data",
          "data": {
            "text/plain": [
              "<Figure size 432x288 with 1 Axes>"
            ],
            "image/png": "[encoded data removed]"
          },
          "metadata": {}
        }
      ]
    }
  ]
}